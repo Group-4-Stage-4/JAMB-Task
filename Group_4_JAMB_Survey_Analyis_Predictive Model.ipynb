{
 "cells": [
  {
   "cell_type": "markdown",
   "id": "7140b4f5",
   "metadata": {},
   "source": [
    "## Investigating The Causes of JAMB Failure Rates and Predicting Future Performance Trends (2020–2030)\n",
    "Over the past five years, there has been a noticeable increase in the failure rate of students taking the Joint Admissions and Matriculation Board (JAMB) examination in Nigeria. This project aims to investigate the root causes of this trend through data-driven research and analysis. We will design and conduct a survey to gather relevant data, explore this data to identify key insights, build a predictive model to forecast success and failure rates over the next five years (2026–2030), and provide actionable recommendations to mitigate future failure rates.\n",
    "\n",
    "### Predictive Modeling\n",
    "Here, we will build a supervised machine learning model to:\n",
    "1. Predict the likelihood of a student's success or failure in the JAMB exam.\n",
    "2. Forecast aggregate success and failure rates from 2026 to 2030."
   ]
  },
  {
   "cell_type": "markdown",
   "id": "44a09648",
   "metadata": {},
   "source": [
    "### Import required libraries"
   ]
  },
  {
   "cell_type": "code",
   "execution_count": 2,
   "id": "d1b276d2",
   "metadata": {},
   "outputs": [],
   "source": [
    "import pandas as pd\n",
    "import matplotlib.pyplot as plt\n",
    "import seaborn as sns\n",
    "from sklearn.model_selection import train_test_split\n",
    "from sklearn.ensemble import RandomForestClassifier\n",
    "from sklearn.metrics import classification_report, confusion_matrix, accuracy_score"
   ]
  },
  {
   "cell_type": "markdown",
   "id": "fadfe068",
   "metadata": {},
   "source": [
    "### 1. Likelihood of a Student's Success or Failure in the JAMB Exam(2026-2030)"
   ]
  },
  {
   "cell_type": "code",
   "execution_count": 17,
   "id": "b54c2175",
   "metadata": {},
   "outputs": [],
   "source": [
    "# Load Dataset\n",
    "df = pd.read_excel('JAMB_Survey_Data.xlsx')\n",
    "df_cleaned = df.copy()\n",
    "\n",
    "# Clean Column Names\n",
    "df_cleaned.columns = df_cleaned.columns.str.strip()\n",
    "for col in df_cleaned.select_dtypes(include='object').columns:\n",
    "    df_cleaned[col] = df_cleaned[col].map(lambda x: x.strip() if isinstance(x, str) else x)\n",
    "\n",
    "# Renaming Columns\n",
    "df_cleaned.columns = [\n",
    "    \"Gender\", \"Email\", \"Age\", \"Exam_Year\", \"State\", \"School_Type\", \"JAMB_Score\",\n",
    "    \"Preferred_Course\", \"Met_Cutoff\", \"Prep_Method\", \"Study_Hours\", \"Family_Income\",\n",
    "    \"Internet_Access\", \"CBT_Practice_Frequency\", \"CBT_Device\", \"Confidence_Level\",\n",
    "    \"Center_Equipped\", \"Resources_Provided\", \"Exam_Day_Challenges\", \"Score_Reflection\",\n",
    "    \"Poor_Performance_Reasons\", \"Suggestions\"\n",
    "    ]\n",
    "\n",
    "# Convert age ranges to numeric values\n",
    "age_map = {\n",
    "    \"15 and below\": 15,\n",
    "    \"16-17\": 16.5,\n",
    "    \"18-19\": 18.5,\n",
    "    \"20-21\": 20.5,\n",
    "    \"22 and above\": 22\n",
    "}\n",
    "df_cleaned[\"Age_Estimate\"] = df_cleaned[\"Age\"].map(age_map)\n",
    "\n",
    "# Convert study hours to numeric\n",
    "def convert_study_hours(x):\n",
    "    if isinstance(x, str):\n",
    "        x = x.strip().lower()\n",
    "        if \"0-1\" in x or \"less than\" in x:\n",
    "            return 1\n",
    "        elif \"2-3\" in x:\n",
    "            return 2.5\n",
    "        elif \"4-5\" in x:\n",
    "            return 4.5\n",
    "        elif \"6+\" in x or \"more than 6\" in x:\n",
    "            return 6.5\n",
    "    return None\n",
    "\n",
    "df_cleaned[\"Study_Hours_Num\"] = df_cleaned[\"Study_Hours\"].apply(convert_study_hours)\n",
    "\n",
    "# Create target column\n",
    "df_cleaned[\"Passed_JAMB\"] = df_cleaned[\"JAMB_Score\"].apply(lambda x: 1 if x >= 200 else 0)\n",
    "\n",
    "# Select relevant features and drop rows with missing values\n",
    "model_df = df_cleaned[[\n",
    "    \"Age_Estimate\", \"Study_Hours_Num\", \"School_Type\", \"Prep_Method\",\n",
    "    \"Internet_Access\", \"CBT_Practice_Frequency\", \"Confidence_Level\", \"Passed_JAMB\"\n",
    "]].dropna()\n",
    "\n",
    "# One-hot encode categorical features\n",
    "model_df = pd.get_dummies(model_df, columns=[\n",
    "    \"School_Type\", \"Prep_Method\", \"Internet_Access\", \"CBT_Practice_Frequency\"\n",
    "])\n",
    "\n",
    "# Define input (X) and target (y)\n",
    "X = model_df.drop(\"Passed_JAMB\", axis=1)\n",
    "y = model_df[\"Passed_JAMB\"]\n",
    "\n",
    "# Split the data into training and test sets\n",
    "X_train, X_test, y_train, y_test = train_test_split(X, y, test_size=0.2, random_state=42)\n",
    "\n",
    "# Train a Random Forest Classifier\n",
    "model = RandomForestClassifier(random_state=42)\n",
    "model.fit(X_train, y_train)\n",
    "\n",
    "# Make predictions\n",
    "y_pred = model.predict(X_test)\n"
   ]
  },
  {
   "cell_type": "markdown",
   "id": "b41678bd",
   "metadata": {},
   "source": [
    "### Model Evaluation"
   ]
  },
  {
   "cell_type": "code",
   "execution_count": 23,
   "id": "b8ffb5c1",
   "metadata": {},
   "outputs": [
    {
     "name": "stdout",
     "output_type": "stream",
     "text": [
      "✅ Confusion Matrix:\n",
      "[[11  5]\n",
      " [ 5  5]]\n",
      "\n",
      "✅ Classification Report:\n",
      "              precision    recall  f1-score   support\n",
      "\n",
      "           0       0.69      0.69      0.69        16\n",
      "           1       0.50      0.50      0.50        10\n",
      "\n",
      "    accuracy                           0.62        26\n",
      "   macro avg       0.59      0.59      0.59        26\n",
      "weighted avg       0.62      0.62      0.62        26\n",
      "\n",
      "\n",
      "✅ Accuracy Score:\n",
      "0.6153846153846154\n"
     ]
    }
   ],
   "source": [
    "print(\"✅ Confusion Matrix:\")\n",
    "print(confusion_matrix(y_test, y_pred))\n",
    "print(\"\\n✅ Classification Report:\")\n",
    "print(classification_report(y_test, y_pred))\n",
    "print(\"\\n✅ Accuracy Score:\")\n",
    "print(accuracy_score(y_test, y_pred))"
   ]
  },
  {
   "cell_type": "code",
   "execution_count": 27,
   "id": "e3eaa11a",
   "metadata": {},
   "outputs": [
    {
     "name": "stdout",
     "output_type": "stream",
     "text": [
      "Clasification of possible result outcome\n",
      "0 means Fail\n",
      "1 means pass\n",
      "Accuracy score of the Model is 62%\n"
     ]
    }
   ],
   "source": [
    "print(\"Clasification of possible result outcome\")\n",
    "\n",
    "print(\"0 means Fail\")\n",
    "print(\"1 means pass\")\n",
    "print(\"Accuracy score of the Model is 62%\")"
   ]
  },
  {
   "cell_type": "markdown",
   "id": "e08a5440",
   "metadata": {},
   "source": [
    "### 2. Forecasted aggregate success and failure rates from 2026 to 2030."
   ]
  },
  {
   "cell_type": "code",
   "execution_count": 34,
   "id": "97e7ad3f",
   "metadata": {},
   "outputs": [
    {
     "data": {
      "image/png": "[encoded data removed]",
      "text/plain": [
       "<Figure size 1000x600 with 1 Axes>"
      ]
     },
     "metadata": {},
     "output_type": "display_data"
    }
   ],
   "source": [
    "import pandas as pd\n",
    "import matplotlib.pyplot as plt\n",
    "import seaborn as sns\n",
    "from sklearn.linear_model import LinearRegression\n",
    "import numpy as np\n",
    "\n",
    "# Load Dataset\n",
    "df = pd.read_excel('JAMB_Survey_Data.xlsx')\n",
    "df_cleaned = df.copy()\n",
    "\n",
    "# Clean column names\n",
    "df_cleaned.columns = df_cleaned.columns.str.strip()\n",
    "for col in df_cleaned.select_dtypes(include='object').columns:\n",
    "    df_cleaned[col] = df_cleaned[col].map(lambda x: x.strip() if isinstance(x, str) else x)\n",
    "\n",
    "# Create binary pass column\n",
    "df_cleaned[\"Passed_JAMB\"] = df_cleaned[\"What was your highest JAMB UTME score in any of the years you took the exam?\"].apply(lambda x: 1 if x >= 200 else 0)\n",
    "\n",
    "# Rename the year column\n",
    "df_cleaned = df_cleaned.rename(columns={\"Year(s) you took the JAMB UTME\": \"Exam_Year\"})\n",
    "\n",
    "# 1. Group by year and calculate pass rate\n",
    "yearly_summary = df_cleaned.groupby(\"Exam_Year\")[\"Passed_JAMB\"].mean().reset_index()\n",
    "yearly_summary.columns = [\"Year\", \"Pass_Rate\"]\n",
    "\n",
    "# 2. Train linear regression model\n",
    "X = yearly_summary[[\"Year\"]]\n",
    "y = yearly_summary[\"Pass_Rate\"]\n",
    "\n",
    "model = LinearRegression()\n",
    "model.fit(X, y)\n",
    "\n",
    "# 3. Predict pass rates for 2026–2030\n",
    "future_years = pd.DataFrame({\"Year\": np.arange(2026, 2031)})\n",
    "future_pass_rates = model.predict(future_years)\n",
    "\n",
    "# Combine all for plotting\n",
    "all_years = pd.concat([yearly_summary, future_years], ignore_index=True)\n",
    "all_years[\"Predicted_Pass_Rate\"] = model.predict(all_years[[\"Year\"]])\n",
    "\n",
    "# 4. Plot actual vs predicted pass rates\n",
    "plt.figure(figsize=(10, 6))\n",
    "sns.lineplot(data=all_years, x=\"Year\", y=\"Predicted_Pass_Rate\", label=\"Forecasted Trend\", marker=\"o\", color=\"green\")\n",
    "sns.scatterplot(data=yearly_summary, x=\"Year\", y=\"Pass_Rate\", label=\"Actual Pass Rate\", color=\"blue\")\n",
    "plt.title(\"JAMB Pass Rate Forecast (2026–2030)\")\n",
    "plt.ylabel(\"Pass Rate\")\n",
    "plt.xlabel(\"Year\")\n",
    "plt.ylim(0, 1)\n",
    "plt.grid(True)\n",
    "plt.legend()\n",
    "plt.tight_layout()\n",
    "plt.show()"
   ]
  },
  {
   "cell_type": "markdown",
   "id": "748cad5f",
   "metadata": {},
   "source": [
    "### Recommendations for Improving JAMB Performance Outcomes\n",
    "\n",
    "Based on the findings from the data analysis and predictive modeling, the following data-backed recommendations are proposed for students, educators, and policymakers to improve JAMB performance outcomes:\n",
    "\n",
    "#### For Students:\n",
    "1. **Early Preparation**:\n",
    "   - **Start Early**: Begin preparing for the JAMB exam at least six months in advance. This allows ample time to cover the syllabus comprehensively and revise effectively.\n",
    "   - **Consistent Study Schedule**: Develop and adhere to a consistent study schedule, dedicating at least 3-4 hours per day to preparation in the months leading up to the exam.\n",
    "\n",
    "2. **Utilize Multiple Resources**:\n",
    "   - **Diverse Study Materials**: Use a variety of study materials, including textbooks, online platforms (e.g., YouTube, CBT practice sites), and past JAMB questions.\n",
    "   - **Coaching Centers**: Consider enrolling in reputable coaching centers that offer structured preparation programs and mock exams.\n",
    "\n",
    "3. **Practice with CBT**:\n",
    "   - **Regular CBT Practice**: Regularly practice using Computer-Based Testing (CBT) platforms to become familiar with the exam format and reduce anxiety on exam day.\n",
    "   - **Simulate Exam Conditions**: Practice under conditions that simulate the actual exam environment, including time constraints and using a computer.\n",
    "\n",
    "4. **Time Management**:\n",
    "   - **Effective Time Management**: Allocate specific time slots for different subjects and topics, ensuring balanced preparation across all areas.\n",
    "   - **Avoid Cramming**: Avoid last-minute cramming and focus on understanding concepts rather than memorizing information.\n",
    "\n",
    "5. **Mental Health and Well-being**:\n",
    "   - **Stress Management**: Engage in stress-relief activities such as exercise, meditation, or hobbies to manage exam-related anxiety.\n",
    "   - **Seek Support**: Do not hesitate to seek support from teachers, peers, or counselors if feeling overwhelmed or stressed.\n",
    "\n",
    "#### For Educators:\n",
    "1. **Enhanced Coaching Programs**:\n",
    "   - **Comprehensive Tutoring**: Offer comprehensive tutoring programs that cover the entire JAMB syllabus and provide personalized support to students.\n",
    "   - **Regular Assessments**: Conduct regular assessments and mock exams to track student progress and identify areas needing improvement.\n",
    "\n",
    "2. **Technical Training**:\n",
    "   - **Computer Literacy**: Ensure students are proficient in using computers and navigating CBT platforms. Incorporate computer literacy training into the curriculum if necessary.\n",
    "   - **Familiarization with CBT**: Provide students with access to CBT practice platforms and encourage regular practice to build confidence and reduce anxiety.\n",
    "\n",
    "3. **Mental Health Support**:\n",
    "   - **Counseling Services**: Offer counseling services to help students manage exam-related stress and anxiety.\n",
    "   - **Workshops on Stress Management**: Conduct workshops on stress management techniques to equip students with coping strategies.\n",
    "\n",
    "4. **Resource Allocation**:\n",
    "   - **Study Materials**: Ensure students have access to a wide range of study materials, including textbooks, past JAMB questions, and online resources.\n",
    "   - **Study Groups**: Encourage the formation of study groups to foster collaborative learning and peer support.\n",
    "\n",
    "#### For Policymakers:\n",
    "1. **Resource Allocation**:\n",
    "   - **Exam Center Improvements**: Allocate resources to improve exam center conditions, including better ventilation, adequate seating, and reliable power supply.\n",
    "   - **Technical Infrastructure**: Invest in modernizing technical infrastructure to reduce the incidence of computer malfunctions and login problems during the exam.\n",
    "\n",
    "2. **Policy Adjustments**:\n",
    "   - **Cut-off Marks**: Consider adjusting cut-off marks to accommodate diverse student capabilities and reduce the pressure on students to achieve high scores.\n",
    "   - **Exam Policies**: Review and update exam policies to ensure fairness and transparency, and to address any systemic issues that may affect student performance.\n",
    "\n",
    "3. **Data-Driven Decisions**:\n",
    "   - **Analytics for Policy**: Use data analytics to inform policy decisions and identify areas needing intervention. Regularly review performance trends and adjust policies accordingly.\n",
    "   - **Feedback Mechanisms**: Establish feedback mechanisms to gather insights from students, educators, and exam administrators to continuously improve the exam process.\n",
    "\n",
    "4. **Public Awareness Campaigns**:\n",
    "   - **Exam Preparation Guidance**: Launch public awareness campaigns to provide students and parents with guidance on effective exam preparation strategies.\n",
    "   - **Mental Health Awareness**: Promote mental health awareness and provide resources to help students manage exam-related stress.\n",
    "\n",
    "### Conclusion\n",
    "Implementing these recommendations can significantly enhance JAMB performance outcomes by addressing key challenges identified through data analysis. By fostering a supportive and well-equipped environment, students can better prepare for the exam, leading to improved performance and increased access to tertiary education opportunities."
   ]
  }
 ],
 "metadata": {
  "kernelspec": {
   "display_name": "venv",
   "language": "python",
   "name": "python3"
  },
  "language_info": {
   "codemirror_mode": {
    "name": "ipython",
    "version": 3
   },
   "file_extension": ".py",
   "mimetype": "text/x-python",
   "name": "python",
   "nbconvert_exporter": "python",
   "pygments_lexer": "ipython3",
   "version": "3.13.4"
  }
 },
 "nbformat": 4,
 "nbformat_minor": 5
}
